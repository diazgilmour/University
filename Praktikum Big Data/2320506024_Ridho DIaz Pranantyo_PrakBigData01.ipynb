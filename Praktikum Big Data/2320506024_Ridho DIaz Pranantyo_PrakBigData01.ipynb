{
 "cells": [
  {
   "cell_type": "markdown",
   "id": "10c25d6f",
   "metadata": {},
   "source": [
    "#  Pengenalan Big Data dan Overview Teknologi"
   ]
  },
  {
   "cell_type": "markdown",
   "id": "23b963c0",
   "metadata": {},
   "source": [
    "### Untuk langkah-langkah Instalasi Anaconda dapat dilihat di link berikut :\n",
    "https://github.com/diazgilmour/University/blob/main/Praktikum%20Big%20Data/Langkah%20Penginstallan%20Anaconda.pdf\n",
    "\n"
   ]
  },
  {
   "cell_type": "markdown",
   "id": "8747276f",
   "metadata": {},
   "source": [
    "# Tugas 1 : Jalankan kode di atas dan buat modifikasi dengan menambahkan data lain berupa kolom pekerjaan, hobi dan gender."
   ]
  },
  {
   "cell_type": "code",
   "execution_count": 1,
   "id": "07c505be-1f2c-4277-bccf-687ad466b93c",
   "metadata": {},
   "outputs": [],
   "source": [
    "import findspark\n",
    "findspark.init()"
   ]
  },
  {
   "cell_type": "code",
   "execution_count": 4,
   "id": "f78a5053",
   "metadata": {},
   "outputs": [
    {
     "name": "stdout",
     "output_type": "stream",
     "text": [
      "+-----+----+---------+---------+---------+\n",
      "| Nama|Usia|     Hobi|   Gender|Pekerjaan|\n",
      "+-----+----+---------+---------+---------+\n",
      "|  Ali|  34|Memancing|Laki-Laki|     Ojek|\n",
      "| Budi|  23|   Boxing|Laki-Laki| Penyanyi|\n",
      "|Citra|  29|  Ngevlog|Perempuan|  Mekanik|\n",
      "| Dina|  45|Berdandan|Perempuan|  Vlogger|\n",
      "+-----+----+---------+---------+---------+\n",
      "\n"
     ]
    }
   ],
   "source": [
    "from pyspark.sql import SparkSession\n",
    "\n",
    "# Memulai Spark session\n",
    "spark = SparkSession.builder.appName(\"BigDataPractice\").getOrCreate()\n",
    "\n",
    "# Membuat DataFrame sederhana\n",
    "data = [(\"Ali\", 34, \"Memancing\", \"Laki-Laki\", \"Ojek\"), (\"Budi\", 23, \"Boxing\", \"Laki-Laki\", \"Penyanyi\"), (\"Citra\", 29, \"Ngevlog\", \"Perempuan\", \"Mekanik\"), (\"Dina\", 45, \"Berdandan\", \"Perempuan\", \"Vlogger\")]\n",
    "columns = [\"Nama\", \"Usia\", \"Hobi\", \"Gender\", \"Pekerjaan\"]\n",
    "df = spark.createDataFrame(data, columns)\n",
    "\n",
    "# Menampilkan DataFrame\n",
    "df.show()\n"
   ]
  },
  {
   "cell_type": "markdown",
   "id": "a9117551-88bf-421a-8c83-0b63cdd22781",
   "metadata": {},
   "source": [
    "### Penjelasan Tugas 1: Pada dataframe yang sudah ada saya menambahkan data dan kolom baru pada baris 7 dan 8"
   ]
  },
  {
   "cell_type": "markdown",
   "id": "e06767bc",
   "metadata": {},
   "source": [
    "# Tugas 2 : Lakukan filter, penghitungan rata-rata, dan pengurutan data menggunakan PySpark."
   ]
  },
  {
   "cell_type": "code",
   "execution_count": 3,
   "id": "1f391ed5",
   "metadata": {},
   "outputs": [
    {
     "name": "stdout",
     "output_type": "stream",
     "text": [
      "+-----+----+---------+---------+\n",
      "| Nama|Usia|     Hobi|   Gender|\n",
      "+-----+----+---------+---------+\n",
      "|  Ali|  34|  Mancing|Laki-Laki|\n",
      "| Budi|  23|   Boxing|Laki-Laki|\n",
      "|Citra|  29|  Ngevlog|Perempuan|\n",
      "| Dina|  45|Berdandan|Perempuan|\n",
      "+-----+----+---------+---------+\n",
      "\n",
      "+----+----+-------+---------+\n",
      "|Nama|Usia|   Hobi|   Gender|\n",
      "+----+----+-------+---------+\n",
      "| Ali|  34|Mancing|Laki-Laki|\n",
      "|Budi|  23| Boxing|Laki-Laki|\n",
      "+----+----+-------+---------+\n",
      "\n",
      "+---------+\n",
      "|avg(Usia)|\n",
      "+---------+\n",
      "|    32.75|\n",
      "+---------+\n",
      "\n",
      "+-----+----+---------+---------+\n",
      "| Nama|Usia|     Hobi|   Gender|\n",
      "+-----+----+---------+---------+\n",
      "| Dina|  45|Berdandan|Perempuan|\n",
      "|  Ali|  34|  Mancing|Laki-Laki|\n",
      "|Citra|  29|  Ngevlog|Perempuan|\n",
      "| Budi|  23|   Boxing|Laki-Laki|\n",
      "+-----+----+---------+---------+\n",
      "\n"
     ]
    }
   ],
   "source": [
    "from pyspark.sql import SparkSession\n",
    "\n",
    "# Memulai Spark session\n",
    "spark = SparkSession.builder.appName(\"BigDataPractice\").getOrCreate()\n",
    "\n",
    "# Membuat DataFrame sederhana\n",
    "data = [(\"Ali\", 34, \"Mancing\", \"Laki-Laki\"), (\"Budi\", 23, \"Boxing\", \"Laki-Laki\"), (\"Citra\", 29, \"Ngevlog\", \"Perempuan\"), (\"Dina\", 45, \"Berdandan\", \"Perempuan\")]\n",
    "columns = [\"Nama\", \"Usia\", \"Hobi\", \"Gender\"]\n",
    "df = spark.createDataFrame(data, columns)\n",
    "\n",
    "# Menampilkan DataFrame\n",
    "df.show()\n",
    "\n",
    "# Filtering data\n",
    "df_filtered = df.filter(df['Gender'] == \"Laki-Laki\")\n",
    "df_filtered.show()\n",
    "\n",
    "# Menghitung rata-rata usia\n",
    "from pyspark.sql.functions import avg\n",
    "df.groupBy().agg(avg(\"Usia\")).show()\n",
    "\n",
    "# Mengurutkan data berdasarkan usia\n",
    "df_sorted = df.orderBy(\"Usia\", ascending=False)\n",
    "df_sorted.show()\n"
   ]
  },
  {
   "cell_type": "markdown",
   "id": "0dccddf9-4bd0-47eb-a8cf-bc4643dd363c",
   "metadata": {},
   "source": [
    "### Penjelasan Tugas 2 : Pada baris ke 15 dan 16 saya menambahkan filtering data berdasarkan gender yaitu laki-laki, lalu pada baris ke 19 dan 20 adalah fungsi untuk menghitung rata-rata serta pada baris 23 dan 24 adalah untuk mengurutkan data berdasar usia"
   ]
  },
  {
   "cell_type": "markdown",
   "id": "9da455f1",
   "metadata": {},
   "source": [
    "# Tugas 3 : Modifikasi DataFrame Pandas dengan menambahkan kolom baru dan melakukan operasi seperti filtering data berdasarkan usia."
   ]
  },
  {
   "cell_type": "code",
   "execution_count": 40,
   "id": "3f1f2ec1",
   "metadata": {},
   "outputs": [
    {
     "data": {
      "text/html": [
       "<div>\n",
       "<style scoped>\n",
       "    .dataframe tbody tr th:only-of-type {\n",
       "        vertical-align: middle;\n",
       "    }\n",
       "\n",
       "    .dataframe tbody tr th {\n",
       "        vertical-align: top;\n",
       "    }\n",
       "\n",
       "    .dataframe thead th {\n",
       "        text-align: right;\n",
       "    }\n",
       "</style>\n",
       "<table border=\"1\" class=\"dataframe\">\n",
       "  <thead>\n",
       "    <tr style=\"text-align: right;\">\n",
       "      <th></th>\n",
       "      <th>Nama</th>\n",
       "      <th>Usia</th>\n",
       "      <th>kota</th>\n",
       "    </tr>\n",
       "  </thead>\n",
       "  <tbody>\n",
       "    <tr>\n",
       "      <th>0</th>\n",
       "      <td>Ali</td>\n",
       "      <td>34</td>\n",
       "      <td>Jakarta</td>\n",
       "    </tr>\n",
       "    <tr>\n",
       "      <th>1</th>\n",
       "      <td>Budi</td>\n",
       "      <td>23</td>\n",
       "      <td>Bandung</td>\n",
       "    </tr>\n",
       "    <tr>\n",
       "      <th>2</th>\n",
       "      <td>Citra</td>\n",
       "      <td>29</td>\n",
       "      <td>Magelang</td>\n",
       "    </tr>\n",
       "    <tr>\n",
       "      <th>3</th>\n",
       "      <td>Dina</td>\n",
       "      <td>45</td>\n",
       "      <td>Sleman</td>\n",
       "    </tr>\n",
       "  </tbody>\n",
       "</table>\n",
       "</div>"
      ],
      "text/plain": [
       "    Nama  Usia      kota\n",
       "0    Ali    34   Jakarta\n",
       "1   Budi    23   Bandung\n",
       "2  Citra    29  Magelang\n",
       "3   Dina    45    Sleman"
      ]
     },
     "metadata": {},
     "output_type": "display_data"
    },
    {
     "data": {
      "text/html": [
       "<div>\n",
       "<style scoped>\n",
       "    .dataframe tbody tr th:only-of-type {\n",
       "        vertical-align: middle;\n",
       "    }\n",
       "\n",
       "    .dataframe tbody tr th {\n",
       "        vertical-align: top;\n",
       "    }\n",
       "\n",
       "    .dataframe thead th {\n",
       "        text-align: right;\n",
       "    }\n",
       "</style>\n",
       "<table border=\"1\" class=\"dataframe\">\n",
       "  <thead>\n",
       "    <tr style=\"text-align: right;\">\n",
       "      <th></th>\n",
       "      <th>Nama</th>\n",
       "      <th>Usia</th>\n",
       "      <th>kota</th>\n",
       "    </tr>\n",
       "  </thead>\n",
       "  <tbody>\n",
       "    <tr>\n",
       "      <th>1</th>\n",
       "      <td>Budi</td>\n",
       "      <td>23</td>\n",
       "      <td>Bandung</td>\n",
       "    </tr>\n",
       "    <tr>\n",
       "      <th>2</th>\n",
       "      <td>Citra</td>\n",
       "      <td>29</td>\n",
       "      <td>Magelang</td>\n",
       "    </tr>\n",
       "  </tbody>\n",
       "</table>\n",
       "</div>"
      ],
      "text/plain": [
       "    Nama  Usia      kota\n",
       "1   Budi    23   Bandung\n",
       "2  Citra    29  Magelang"
      ]
     },
     "metadata": {},
     "output_type": "display_data"
    }
   ],
   "source": [
    "import pandas as pd\n",
    "\n",
    "# Membuat DataFrame Pandas\n",
    "data_pandas = {\"Nama\": [\"Ali\", \"Budi\", \"Citra\", \"Dina\"], \"Usia\": [34, 23, 29, 45]}\n",
    "df_pandas = pd.DataFrame(data_pandas)\n",
    "\n",
    "df_pandas[\"kota\"] = [\"Jakarta\", \"Bandung\", \"Magelang\", \"Sleman\"]\n",
    "\n",
    "filtered_df = df_pandas[df_pandas[\"Usia\"] < 30]\n",
    "\n",
    "# Menampilkan DataFrame Pandas\n",
    "display(df_pandas)\n",
    "display(filtered_df)\n",
    "\n",
    "\n"
   ]
  },
  {
   "cell_type": "markdown",
   "id": "9a408bce-bcac-4fd1-93d7-bc3f7b799f0f",
   "metadata": {},
   "source": [
    "### Penjelasan Tugas 3 : pada baris ke 7 saya menambahkan kolom dan data baru, kemudian untuk filtering pada baris ke 9 adalah untuk menampilkan data yang berusia dibawah 30 tahun"
   ]
  },
  {
   "cell_type": "markdown",
   "id": "884ed75d",
   "metadata": {},
   "source": [
    " #  Tugas 4 : Lakukan penggabungan DataFrame dan visualisasikan data dengan Pandas."
   ]
  },
  {
   "cell_type": "code",
   "execution_count": 5,
   "id": "ae877c5b-afa4-4bb6-bbe7-c4d1109abecb",
   "metadata": {},
   "outputs": [
    {
     "name": "stdout",
     "output_type": "stream",
     "text": [
      "    Nama  Usia Pekerjaan\n",
      "0    Ali    34      Ojek\n",
      "1   Budi    23  Penyanyi\n",
      "2  Citra    29   Mekanik\n",
      "3   Dina    45   Vlogger\n",
      "            Usia\n",
      "count   4.000000\n",
      "mean   32.750000\n",
      "std     9.322911\n",
      "min    23.000000\n",
      "25%    27.500000\n",
      "50%    31.500000\n",
      "75%    36.750000\n",
      "max    45.000000\n"
     ]
    },
    {
     "data": {
      "image/png": "[encoded data removed]",
      "text/plain": [
       "<Figure size 640x480 with 1 Axes>"
      ]
     },
     "metadata": {},
     "output_type": "display_data"
    }
   ],
   "source": [
    "import pandas as pd\n",
    "\n",
    "# Membuat DataFrame Pandas\n",
    "data_pandas = {\"Nama\": [\"Ali\", \"Budi\", \"Citra\", \"Dina\"], \"Usia\": [34, 23, 29, 45]}\n",
    "df_pandas = pd.DataFrame(data_pandas)\n",
    "\n",
    "# Membuat DataFrame kedua\n",
    "data_pandas_2 = {\"Nama\": [\"Ali\", \"Budi\", \"Citra\", \"Dina\"], \"Pekerjaan\": [\"Ojek\", \"Penyanyi\", \"Mekanik\", \"Vlogger\"]}\n",
    "df_pandas_2 = pd.DataFrame(data_pandas_2)\n",
    "\n",
    "# Join antara dua DataFrame\n",
    "df_joined = pd.merge(df_pandas, df_pandas_2, on=\"Nama\")\n",
    "print(df_joined)\n",
    "\n",
    "# Menghitung statistik deskriptif\n",
    "print(df_pandas.describe())\n",
    "\n",
    "# Plotting Data\n",
    "import matplotlib.pyplot as plt\n",
    "\n",
    "# Plotting data dengan nama pada sumbu x\n",
    "df_pandas.set_index('Nama')['Usia'].plot(kind='bar')\n",
    "\n",
    "# Menambahkan judul dan label\n",
    "plt.title(\"Usia pada diagram\")\n",
    "plt.xlabel(\"Nama\")\n",
    "plt.ylabel(\"Usia (tahun)\")\n",
    "\n",
    "# Menampilkan plot\n",
    "plt.show()\n",
    "\n"
   ]
  },
  {
   "cell_type": "markdown",
   "id": "3e4f4c30-e42f-43f7-a7e1-21d778dcb9e5",
   "metadata": {},
   "source": [
    "### Penjelasan Tugas 4 : pada baris ke 4 dan 5 kita membuat dataframe pandas, lalu pada baris 8 dan 9 saya membuat dataframe kedua yang kemudian digabungkan pada baris 12 dan ditampilkan dengan baris ke 13, untuk memvisualisasikan data saya melakukan plotting data yang kemudian pada setiap sumbunya saya beri nama dan keterangan."
   ]
  },
  {
   "cell_type": "markdown",
   "id": "2cba4e5c",
   "metadata": {},
   "source": [
    "# Tugas 5 : Gunakan metode ini untuk menggabungkan data yang Anda buat di PySpark dengan data dari Pandas, kemudian lakukan analisis sederhana seperti menghitung rata-rata usia."
   ]
  },
  {
   "cell_type": "code",
   "execution_count": 13,
   "id": "850d0ea2-d96c-4c89-9e4d-02de27d0247e",
   "metadata": {},
   "outputs": [
    {
     "name": "stdout",
     "output_type": "stream",
     "text": [
      "+-----+----+---------+\n",
      "| Nama|Usia|   Gender|\n",
      "+-----+----+---------+\n",
      "|  Ali|  34|Laki-laki|\n",
      "| Budi|  23|Laki-laki|\n",
      "|Citra|  29|Perempuan|\n",
      "| Dina|  45|Perempuan|\n",
      "| Diaz|  21|Laki-laki|\n",
      "|Fitri|  19|Perempuan|\n",
      "+-----+----+---------+\n",
      "\n",
      "+---------+\n",
      "|avg(Usia)|\n",
      "+---------+\n",
      "|     28.5|\n",
      "+---------+\n",
      "\n"
     ]
    }
   ],
   "source": [
    "from pyspark.sql import SparkSession\n",
    "import pandas as pd\n",
    "\n",
    "# Memulai Spark session\n",
    "spark = SparkSession.builder.appName(\"BigDataPractice\").getOrCreate()\n",
    "\n",
    "# Membuat DataFrame PySpark\n",
    "data_spark = [(\"Ali\", 34, \"Laki-laki\"), \n",
    "              (\"Budi\", 23, \"Laki-laki\"), \n",
    "              (\"Citra\", 29, \"Perempuan\"), \n",
    "              (\"Dina\", 45, \"Perempuan\")]\n",
    "columns = [\"Nama\", \"Usia\", \"Gender\"]\n",
    "df_spark = spark.createDataFrame(data_spark, columns)\n",
    "\n",
    "# Membuat DataFrame Pandas\n",
    "data_pandas = {\"Nama\": [\"Diaz\", \"Fitri\"], \"Usia\": [21, 19], \"Gender\": [\"Laki-laki\", \"Perempuan\"]}\n",
    "df_pandas = pd.DataFrame(data_pandas)\n",
    "\n",
    "# Konversi DataFrame dari PySpark ke Pandas\n",
    "df_pandas_from_spark = df_spark.toPandas()\n",
    "\n",
    "# Konversi DataFrame dari Pandas ke PySpark\n",
    "df_spark_from_pandas = spark.createDataFrame(df_pandas)\n",
    "\n",
    "# Menggabungkan data PySpark dan Pandas (setelah konversi ke PySpark)\n",
    "df_combined = df_spark.unionByName(df_spark_from_pandas)\n",
    "df_combined.show()\n",
    "\n",
    "# Menghitung rata-rata usia\n",
    "df_combined.groupBy().agg(avg(\"Usia\")).show()\n"
   ]
  },
  {
   "cell_type": "markdown",
   "id": "47002ae8-ccf4-40cd-9356-0e0f9108b2ec",
   "metadata": {},
   "source": [
    "### Penjelasan Tugas 5 : Dimulai dengan membuat dataframe pyspark dan dataframe pandas dengan satu kolom yang beda dan satu kolom yang sama maka akan dilakukan konversi dan penggabungan kedua dataframe tersebut yang kemudian akan dihitung rata-rata usianya "
   ]
  },
  {
   "cell_type": "markdown",
   "id": "65adbe71",
   "metadata": {},
   "source": [
    "# Tugas 6 : Gabungkan data dari PySpark dan Pandas, lalu lakukan operasi statistik seperti menghitung nilai maksimum usia."
   ]
  },
  {
   "cell_type": "code",
   "execution_count": 14,
   "id": "a19ccc8a-789a-41b6-a3a1-0bd2bfa8f5cf",
   "metadata": {},
   "outputs": [
    {
     "name": "stdout",
     "output_type": "stream",
     "text": [
      "+-----+----+---------+\n",
      "| Nama|Usia|   Gender|\n",
      "+-----+----+---------+\n",
      "|  Ali|  34|Laki-laki|\n",
      "| Budi|  23|Laki-laki|\n",
      "|Citra|  29|Perempuan|\n",
      "| Dina|  45|Perempuan|\n",
      "| Diaz|  21|Laki-laki|\n",
      "|Fitri|  19|Perempuan|\n",
      "+-----+----+---------+\n",
      "\n",
      "+---------+\n",
      "|max(Usia)|\n",
      "+---------+\n",
      "|       45|\n",
      "+---------+\n",
      "\n"
     ]
    }
   ],
   "source": [
    "from pyspark.sql import SparkSession\n",
    "import pandas as pd\n",
    "from pyspark.sql.functions import max\n",
    "\n",
    "# Memulai Spark session\n",
    "spark = SparkSession.builder.appName(\"BigDataPractice\").getOrCreate()\n",
    "\n",
    "# Membuat DataFrame PySpark\n",
    "data_spark = [(\"Ali\", 34, \"Laki-laki\"), \n",
    "              (\"Budi\", 23, \"Laki-laki\"), \n",
    "              (\"Citra\", 29, \"Perempuan\"), \n",
    "              (\"Dina\", 45, \"Perempuan\")]\n",
    "columns = [\"Nama\", \"Usia\", \"Gender\"]\n",
    "df_spark = spark.createDataFrame(data_spark, columns)\n",
    "\n",
    "# Membuat DataFrame Pandas\n",
    "data_pandas = {\"Nama\": [\"Diaz\", \"Fitri\"], \"Usia\": [21, 19], \"Gender\": [\"Laki-laki\", \"Perempuan\"]}\n",
    "df_pandas = pd.DataFrame(data_pandas)\n",
    "\n",
    "# Konversi DataFrame dari PySpark ke Pandas\n",
    "df_pandas_from_spark = df_spark.toPandas()\n",
    "\n",
    "# Konversi DataFrame dari Pandas ke PySpark\n",
    "df_spark_from_pandas = spark.createDataFrame(df_pandas)\n",
    "\n",
    "# Menggabungkan data PySpark dan Pandas (setelah konversi ke PySpark)\n",
    "df_combined = df_spark.unionByName(df_spark_from_pandas)\n",
    "df_combined.show()\n",
    "\n",
    "# Menghitung nilai maksimum usia\n",
    "df_combined.groupBy().agg(max(\"Usia\")).show()\n"
   ]
  },
  {
   "cell_type": "markdown",
   "id": "dc1f471a-7db3-403a-a165-8ef76e410712",
   "metadata": {},
   "source": [
    "### Penjelasan Tugas 6 : Hanya merubah operasi menjadi menghitung nilai maksimum usia \n"
   ]
  }
 ],
 "metadata": {
  "kernelspec": {
   "display_name": "Python 3 (ipykernel)",
   "language": "python",
   "name": "python3"
  },
  "language_info": {
   "codemirror_mode": {
    "name": "ipython",
    "version": 3
   },
   "file_extension": ".py",
   "mimetype": "text/x-python",
   "name": "python",
   "nbconvert_exporter": "python",
   "pygments_lexer": "ipython3",
   "version": "3.11.9"
  }
 },
 "nbformat": 4,
 "nbformat_minor": 5
}
